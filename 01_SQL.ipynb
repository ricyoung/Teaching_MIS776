{
  "nbformat": 4,
  "nbformat_minor": 0,
  "metadata": {
    "colab": {
      "provenance": [],
      "authorship_tag": "ABX9TyO3ArfK0za+hTbxZ6bWCKg4",
      "include_colab_link": true
    },
    "kernelspec": {
      "name": "python3",
      "display_name": "Python 3"
    },
    "language_info": {
      "name": "python"
    }
  },
  "cells": [
    {
      "cell_type": "markdown",
      "metadata": {
        "id": "view-in-github",
        "colab_type": "text"
      },
      "source": [
        "<a href=\"https://colab.research.google.com/github/ricyoung/Teaching_MIS776/blob/main/01_SQL.ipynb\" target=\"_parent\"><img src=\"https://colab.research.google.com/assets/colab-badge.svg\" alt=\"Open In Colab\"/></a>"
      ]
    },
    {
      "cell_type": "code",
      "execution_count": 19,
      "metadata": {
        "id": "hNH7_F4tULnc"
      },
      "outputs": [],
      "source": [
        "import sqlite3 as sl"
      ]
    },
    {
      "cell_type": "markdown",
      "source": [
        "Creates a New DB"
      ],
      "metadata": {
        "id": "7XTPj06FUnwZ"
      }
    },
    {
      "cell_type": "code",
      "source": [
        "conn = sl.connect('01_hw.db')"
      ],
      "metadata": {
        "id": "hSKIP7cXUQ4-"
      },
      "execution_count": 20,
      "outputs": []
    },
    {
      "cell_type": "markdown",
      "source": [
        "Cursor to execute queries"
      ],
      "metadata": {
        "id": "Rrhe7u-OUr1V"
      }
    },
    {
      "cell_type": "code",
      "source": [
        "\n",
        "# create Cursor to execute queries\n",
        "cur = conn.cursor()\n",
        "\n",
        "print('Databse created.')"
      ],
      "metadata": {
        "colab": {
          "base_uri": "https://localhost:8080/"
        },
        "id": "sTgZl1gQUlux",
        "outputId": "512c9e33-1e76-4bcd-9cba-d86d2fed0888"
      },
      "execution_count": 21,
      "outputs": [
        {
          "output_type": "stream",
          "name": "stdout",
          "text": [
            "Databse created.\n"
          ]
        }
      ]
    },
    {
      "cell_type": "markdown",
      "source": [
        "Save changes"
      ],
      "metadata": {
        "id": "aoy0PSPZUul-"
      }
    },
    {
      "cell_type": "code",
      "source": [
        "conn.commit()\n",
        "print('Changes saved.')"
      ],
      "metadata": {
        "colab": {
          "base_uri": "https://localhost:8080/"
        },
        "id": "Jhb8ubwnUt2W",
        "outputId": "7f4be93c-1f49-42cd-d9e6-d7227115915e"
      },
      "execution_count": 22,
      "outputs": [
        {
          "output_type": "stream",
          "name": "stdout",
          "text": [
            "Changes saved.\n"
          ]
        }
      ]
    },
    {
      "cell_type": "markdown",
      "source": [
        "close database connection"
      ],
      "metadata": {
        "id": "1DXtblacU2tg"
      }
    },
    {
      "cell_type": "code",
      "source": [
        "conn.close()\n",
        "print('Connection closed.')"
      ],
      "metadata": {
        "colab": {
          "base_uri": "https://localhost:8080/"
        },
        "id": "tOcwF6WkUxZM",
        "outputId": "435f0f7d-00f0-4d39-f76a-b8300b905a71"
      },
      "execution_count": 23,
      "outputs": [
        {
          "output_type": "stream",
          "name": "stdout",
          "text": [
            "Connection closed.\n"
          ]
        }
      ]
    },
    {
      "cell_type": "markdown",
      "source": [
        "# Create a Table"
      ],
      "metadata": {
        "id": "XtO27eiQU8ZZ"
      }
    },
    {
      "cell_type": "markdown",
      "source": [
        "connect then create"
      ],
      "metadata": {
        "id": "9T5FEmnhVEKR"
      }
    },
    {
      "cell_type": "code",
      "source": [
        "conn = sl.connect('01_hw_demo_table.db')\n",
        "cur = conn.cursor()\n"
      ],
      "metadata": {
        "id": "cdMhF8b8VB4H"
      },
      "execution_count": 24,
      "outputs": []
    },
    {
      "cell_type": "code",
      "source": [
        "cur.execute('''CREATE TABLE CUSTOMER(\n",
        "                User_ID INTEGER PRIMARY KEY NOT NULL,\n",
        "                Product_ID INTEGER NOT NULL,\n",
        "                Name TEXT NOT NULL,\n",
        "                Gender TEXT NOT NULL,\n",
        "                AGE INTEGER NOT NULL,\n",
        "                CITY TEXT);\n",
        "                ''')"
      ],
      "metadata": {
        "colab": {
          "base_uri": "https://localhost:8080/"
        },
        "id": "rnW-ljYXVI8Q",
        "outputId": "1b72a9f4-2fea-47cf-bf50-8d75dad54574"
      },
      "execution_count": 25,
      "outputs": [
        {
          "output_type": "execute_result",
          "data": {
            "text/plain": [
              "<sqlite3.Cursor at 0x7f39d024dfc0>"
            ]
          },
          "metadata": {},
          "execution_count": 25
        }
      ]
    },
    {
      "cell_type": "code",
      "source": [
        "cur.execute(\"INSERT INTO CUSTOMER (User_ID, Product_ID, Name, Gender, AGE, CITY) \\\n",
        "             VALUES (1, 101, 'John Doe', 'Male', 30, 'New York')\")"
      ],
      "metadata": {
        "colab": {
          "base_uri": "https://localhost:8080/"
        },
        "id": "KSvs-nBmVmft",
        "outputId": "b379aea9-8e83-4531-9b44-684109e2f4a3"
      },
      "execution_count": 26,
      "outputs": [
        {
          "output_type": "execute_result",
          "data": {
            "text/plain": [
              "<sqlite3.Cursor at 0x7f39d024dfc0>"
            ]
          },
          "metadata": {},
          "execution_count": 26
        }
      ]
    },
    {
      "cell_type": "code",
      "source": [
        "conn.commit()"
      ],
      "metadata": {
        "id": "9rO8yvAAV--7"
      },
      "execution_count": 27,
      "outputs": []
    },
    {
      "cell_type": "code",
      "source": [
        "cur.execute(\"SELECT * FROM CUSTOMER\")\n",
        "\n",
        "rows = cur.fetchall()\n",
        "\n",
        "# Print column names\n",
        "column_names = [description[0] for description in cur.description]\n",
        "print(column_names)\n",
        "\n",
        "# Print rows\n",
        "for row in rows:\n",
        "    print(row)"
      ],
      "metadata": {
        "colab": {
          "base_uri": "https://localhost:8080/"
        },
        "id": "FnTJRpZUVzAP",
        "outputId": "ba44660b-3666-48df-bc2e-b4b4e5a103b1"
      },
      "execution_count": 28,
      "outputs": [
        {
          "output_type": "stream",
          "name": "stdout",
          "text": [
            "['User_ID', 'Product_ID', 'Name', 'Gender', 'AGE', 'CITY']\n",
            "(1, 101, 'John Doe', 'Male', 30, 'New York')\n"
          ]
        }
      ]
    }
  ]
}