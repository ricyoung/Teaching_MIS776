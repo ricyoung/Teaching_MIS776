{
 "cells": [
  {
   "cell_type": "code",
   "execution_count": 2,
   "metadata": {},
   "outputs": [
    {
     "name": "stdout",
     "output_type": "stream",
     "text": [
      "Intel MKL WARNING: Support of Intel(R) Streaming SIMD Extensions 4.2 (Intel(R) SSE4.2) enabled only processors has been deprecated. Intel oneAPI Math Kernel Library 2025.0 will require Intel(R) Advanced Vector Extensions (Intel(R) AVX) instructions.\n",
      "Intel MKL WARNING: Support of Intel(R) Streaming SIMD Extensions 4.2 (Intel(R) SSE4.2) enabled only processors has been deprecated. Intel oneAPI Math Kernel Library 2025.0 will require Intel(R) Advanced Vector Extensions (Intel(R) AVX) instructions.\n"
     ]
    }
   ],
   "source": [
    "import pandas as pd"
   ]
  },
  {
   "cell_type": "code",
   "execution_count": 3,
   "metadata": {},
   "outputs": [],
   "source": [
    "df = pd.read_csv(\"/Volumes/Data_Backup/vehicles.csv\")\n",
    "print(len(df))"
   ]
  },
  {
   "cell_type": "code",
   "execution_count": null,
   "metadata": {},
   "outputs": [
    {
     "name": "stdout",
     "output_type": "stream",
     "text": [
      "            id                                                url  \\\n",
      "0   7222695916  https://prescott.craigslist.org/cto/d/prescott...   \n",
      "1   7218891961  https://fayar.craigslist.org/ctd/d/bentonville...   \n",
      "2   7221797935  https://keys.craigslist.org/cto/d/summerland-k...   \n",
      "3   7222270760  https://worcester.craigslist.org/cto/d/west-br...   \n",
      "4   7210384030  https://greensboro.craigslist.org/cto/d/trinit...   \n",
      "5   7222379453  https://hudsonvalley.craigslist.org/cto/d/west...   \n",
      "6   7221952215  https://hudsonvalley.craigslist.org/cto/d/west...   \n",
      "7   7220195662  https://hudsonvalley.craigslist.org/cto/d/poug...   \n",
      "8   7209064557  https://medford.craigslist.org/cto/d/grants-pa...   \n",
      "9   7219485069  https://erie.craigslist.org/cto/d/erie-2012-su...   \n",
      "10  7218893038  https://elpaso.craigslist.org/ctd/d/el-paso-20...   \n",
      "11  7218325704  https://elpaso.craigslist.org/ctd/d/el-paso-20...   \n",
      "12  7217788283  https://elpaso.craigslist.org/ctd/d/el-paso-20...   \n",
      "13  7217147606  https://elpaso.craigslist.org/ctd/d/el-paso-20...   \n",
      "14  7209027818  https://elpaso.craigslist.org/ctd/d/el-paso-20...   \n",
      "15  7223509794  https://bellingham.craigslist.org/ctd/d/bellin...   \n",
      "16  7222753076  https://bellingham.craigslist.org/ctd/d/bellin...   \n",
      "17  7222206015  https://bellingham.craigslist.org/ctd/d/bellin...   \n",
      "18  7220030122  https://bellingham.craigslist.org/ctd/d/bellin...   \n",
      "19  7218423006  https://bellingham.craigslist.org/ctd/d/bellin...   \n",
      "\n",
      "                    region  price  year manufacturer model fuel  odometer  \\\n",
      "0                 prescott   6000   NaN          NaN   NaN  NaN       NaN   \n",
      "1             fayetteville  11900   NaN          NaN   NaN  NaN       NaN   \n",
      "2             florida keys  21000   NaN          NaN   NaN  NaN       NaN   \n",
      "3   worcester / central MA   1500   NaN          NaN   NaN  NaN       NaN   \n",
      "4               greensboro   4900   NaN          NaN   NaN  NaN       NaN   \n",
      "5            hudson valley   1600   NaN          NaN   NaN  NaN       NaN   \n",
      "6            hudson valley   1000   NaN          NaN   NaN  NaN       NaN   \n",
      "7            hudson valley  15995   NaN          NaN   NaN  NaN       NaN   \n",
      "8          medford-ashland   5000   NaN          NaN   NaN  NaN       NaN   \n",
      "9                     erie   3000   NaN          NaN   NaN  NaN       NaN   \n",
      "10                 el paso      0   NaN          NaN   NaN  NaN       NaN   \n",
      "11                 el paso      0   NaN          NaN   NaN  NaN       NaN   \n",
      "12                 el paso      0   NaN          NaN   NaN  NaN       NaN   \n",
      "13                 el paso      0   NaN          NaN   NaN  NaN       NaN   \n",
      "14                 el paso      0   NaN          NaN   NaN  NaN       NaN   \n",
      "15              bellingham  13995   NaN          NaN   NaN  NaN       NaN   \n",
      "16              bellingham  24999   NaN          NaN   NaN  NaN       NaN   \n",
      "17              bellingham  21850   NaN          NaN   NaN  NaN       NaN   \n",
      "18              bellingham  26850   NaN          NaN   NaN  NaN       NaN   \n",
      "19              bellingham  11999   NaN          NaN   NaN  NaN       NaN   \n",
      "\n",
      "   title_status transmission  VIN drive size type paint_color description  \\\n",
      "0           NaN          NaN  NaN   NaN  NaN  NaN         NaN         NaN   \n",
      "1           NaN          NaN  NaN   NaN  NaN  NaN         NaN         NaN   \n",
      "2           NaN          NaN  NaN   NaN  NaN  NaN         NaN         NaN   \n",
      "3           NaN          NaN  NaN   NaN  NaN  NaN         NaN         NaN   \n",
      "4           NaN          NaN  NaN   NaN  NaN  NaN         NaN         NaN   \n",
      "5           NaN          NaN  NaN   NaN  NaN  NaN         NaN         NaN   \n",
      "6           NaN          NaN  NaN   NaN  NaN  NaN         NaN         NaN   \n",
      "7           NaN          NaN  NaN   NaN  NaN  NaN         NaN         NaN   \n",
      "8           NaN          NaN  NaN   NaN  NaN  NaN         NaN         NaN   \n",
      "9           NaN          NaN  NaN   NaN  NaN  NaN         NaN         NaN   \n",
      "10          NaN          NaN  NaN   NaN  NaN  NaN         NaN         NaN   \n",
      "11          NaN          NaN  NaN   NaN  NaN  NaN         NaN         NaN   \n",
      "12          NaN          NaN  NaN   NaN  NaN  NaN         NaN         NaN   \n",
      "13          NaN          NaN  NaN   NaN  NaN  NaN         NaN         NaN   \n",
      "14          NaN          NaN  NaN   NaN  NaN  NaN         NaN         NaN   \n",
      "15          NaN          NaN  NaN   NaN  NaN  NaN         NaN         NaN   \n",
      "16          NaN          NaN  NaN   NaN  NaN  NaN         NaN         NaN   \n",
      "17          NaN          NaN  NaN   NaN  NaN  NaN         NaN         NaN   \n",
      "18          NaN          NaN  NaN   NaN  NaN  NaN         NaN         NaN   \n",
      "19          NaN          NaN  NaN   NaN  NaN  NaN         NaN         NaN   \n",
      "\n",
      "   state posting_date  \n",
      "0     az          NaN  \n",
      "1     ar          NaN  \n",
      "2     fl          NaN  \n",
      "3     ma          NaN  \n",
      "4     nc          NaN  \n",
      "5     ny          NaN  \n",
      "6     ny          NaN  \n",
      "7     ny          NaN  \n",
      "8     or          NaN  \n",
      "9     pa          NaN  \n",
      "10    tx          NaN  \n",
      "11    tx          NaN  \n",
      "12    tx          NaN  \n",
      "13    tx          NaN  \n",
      "14    tx          NaN  \n",
      "15    wa          NaN  \n",
      "16    wa          NaN  \n",
      "17    wa          NaN  \n",
      "18    wa          NaN  \n",
      "19    wa          NaN  \n"
     ]
    }
   ],
   "source": [
    "print(df.head(20))"
   ]
  },
  {
   "cell_type": "code",
   "execution_count": null,
   "metadata": {},
   "outputs": [],
   "source": [
    "columns = df.columns\n",
    "print(columns)"
   ]
  },
  {
   "cell_type": "code",
   "execution_count": null,
   "metadata": {},
   "outputs": [],
   "source": [
    "df = df.drop(['image_url', 'lat', 'long', 'county', 'region_url', 'condition', 'cylinders', 'transmission', 'title_status', 'odometer', 'fuel'], axis=1)"
   ]
  },
  {
   "cell_type": "code",
   "execution_count": null,
   "metadata": {},
   "outputs": [],
   "source": [
    "import sqlite3"
   ]
  },
  {
   "cell_type": "code",
   "execution_count": null,
   "metadata": {},
   "outputs": [],
   "source": [
    "df.to_csv('/Volumes/Data_Backup/vehicles_2.csv', index=False)"
   ]
  },
  {
   "cell_type": "code",
   "execution_count": null,
   "metadata": {},
   "outputs": [
    {
     "ename": "NameError",
     "evalue": "name 'conn' is not defined",
     "output_type": "error",
     "traceback": [
      "\u001b[0;31m---------------------------------------------------------------------------\u001b[0m",
      "\u001b[0;31mNameError\u001b[0m                                 Traceback (most recent call last)",
      "Cell \u001b[0;32mIn[11], line 1\u001b[0m\n\u001b[0;32m----> 1\u001b[0m df\u001b[39m.\u001b[39mto_sql(\u001b[39m'\u001b[39m\u001b[39mtable_name\u001b[39m\u001b[39m'\u001b[39m, conn, if_exists\u001b[39m=\u001b[39m\u001b[39m'\u001b[39m\u001b[39mreplace\u001b[39m\u001b[39m'\u001b[39m)\n",
      "\u001b[0;31mNameError\u001b[0m: name 'conn' is not defined"
     ]
    }
   ],
   "source": [
    "# df.to_sql('table_name', conn, if_exists='replace')"
   ]
  },
  {
   "cell_type": "code",
   "execution_count": null,
   "metadata": {},
   "outputs": [
    {
     "ename": "OperationalError",
     "evalue": "unable to open database file",
     "output_type": "error",
     "traceback": [
      "\u001b[0;31m---------------------------------------------------------------------------\u001b[0m",
      "\u001b[0;31mOperationalError\u001b[0m                          Traceback (most recent call last)",
      "Cell \u001b[0;32mIn[7], line 1\u001b[0m\n\u001b[0;32m----> 1\u001b[0m conn \u001b[39m=\u001b[39m sqlite3\u001b[39m.\u001b[39;49mconnect(\u001b[39m'\u001b[39;49m\u001b[39mvehicles.db\u001b[39;49m\u001b[39m'\u001b[39;49m)\n",
      "\u001b[0;31mOperationalError\u001b[0m: unable to open database file"
     ]
    }
   ],
   "source": [
    "# conn = sqlite3.connect('vehicles.db')"
   ]
  },
  {
   "cell_type": "code",
   "execution_count": null,
   "metadata": {},
   "outputs": [],
   "source": []
  }
 ],
 "metadata": {
  "kernelspec": {
   "display_name": "base",
   "language": "python",
   "name": "python3"
  },
  "language_info": {
   "codemirror_mode": {
    "name": "ipython",
    "version": 3
   },
   "file_extension": ".py",
   "mimetype": "text/x-python",
   "name": "python",
   "nbconvert_exporter": "python",
   "pygments_lexer": "ipython3",
   "version": "3.9.16"
  },
  "orig_nbformat": 4
 },
 "nbformat": 4,
 "nbformat_minor": 2
}
