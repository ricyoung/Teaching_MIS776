{
  "nbformat": 4,
  "nbformat_minor": 0,
  "metadata": {
    "colab": {
      "provenance": []
    },
    "kernelspec": {
      "name": "python3",
      "display_name": "Python 3"
    },
    "language_info": {
      "name": "python"
    }
  },
  "cells": [
    {
      "cell_type": "markdown",
      "source": [
        "Basic Connect to Class DB MIS776\n",
        "ryoung"
      ],
      "metadata": {
        "id": "hM6FUkk7Vg6C"
      }
    },
    {
      "cell_type": "code",
      "source": [
        "!pip install mysql-connector-python"
      ],
      "metadata": {
        "colab": {
          "base_uri": "https://localhost:8080/"
        },
        "id": "k4H1DgH0V-uA",
        "outputId": "ca540ca7-7778-448c-e434-a34ab4b70084"
      },
      "execution_count": 2,
      "outputs": [
        {
          "output_type": "stream",
          "name": "stdout",
          "text": [
            "Collecting mysql-connector-python\n",
            "  Downloading mysql_connector_python-8.1.0-cp310-cp310-manylinux_2_17_x86_64.whl (27.5 MB)\n",
            "\u001b[2K     \u001b[90m━━━━━━━━━━━━━━━━━━━━━━━━━━━━━━━━━━━━━━━━\u001b[0m \u001b[32m27.5/27.5 MB\u001b[0m \u001b[31m36.3 MB/s\u001b[0m eta \u001b[36m0:00:00\u001b[0m\n",
            "\u001b[?25hCollecting protobuf<=4.21.12,>=4.21.1 (from mysql-connector-python)\n",
            "  Downloading protobuf-4.21.12-cp37-abi3-manylinux2014_x86_64.whl (409 kB)\n",
            "\u001b[2K     \u001b[90m━━━━━━━━━━━━━━━━━━━━━━━━━━━━━━━━━━━━━━\u001b[0m \u001b[32m409.8/409.8 kB\u001b[0m \u001b[31m35.7 MB/s\u001b[0m eta \u001b[36m0:00:00\u001b[0m\n",
            "\u001b[?25hInstalling collected packages: protobuf, mysql-connector-python\n",
            "  Attempting uninstall: protobuf\n",
            "    Found existing installation: protobuf 3.20.3\n",
            "    Uninstalling protobuf-3.20.3:\n",
            "      Successfully uninstalled protobuf-3.20.3\n",
            "\u001b[31mERROR: pip's dependency resolver does not currently take into account all the packages that are installed. This behaviour is the source of the following dependency conflicts.\n",
            "tensorflow-metadata 1.14.0 requires protobuf<4.21,>=3.20.3, but you have protobuf 4.21.12 which is incompatible.\u001b[0m\u001b[31m\n",
            "\u001b[0mSuccessfully installed mysql-connector-python-8.1.0 protobuf-4.21.12\n"
          ]
        }
      ]
    },
    {
      "cell_type": "code",
      "execution_count": 3,
      "metadata": {
        "id": "8yJ72b7OVgVf"
      },
      "outputs": [],
      "source": [
        "import mysql.connector"
      ]
    },
    {
      "cell_type": "markdown",
      "source": [
        "Connection Information"
      ],
      "metadata": {
        "id": "dk7S6kh_Wnut"
      }
    },
    {
      "cell_type": "code",
      "source": [
        "# Database configuration\n",
        "DB_HOST = 'ls-eb7d10dfacc9ec903e48f035cc72c355585f23c2.chzliubkww7v.us-west-2.rds.amazonaws.com'\n",
        "DB_USER = 'mistest'\n",
        "DB_PASSWORD = 'testmis@12345'"
      ],
      "metadata": {
        "id": "C7ttSF-QWnVV"
      },
      "execution_count": 6,
      "outputs": []
    },
    {
      "cell_type": "code",
      "source": [
        "try:\n",
        "    connection = mysql.connector.connect(\n",
        "    host=DB_HOST,\n",
        "    user=DB_USER,\n",
        "    password=DB_PASSWORD\n",
        ")\n",
        "\n",
        "    # Check if the connection was successful\n",
        "    if connection.is_connected():\n",
        "        db_info = connection.get_server_info()\n",
        "        print(\"Connected to MySQL Server version \", db_info)\n",
        "        cursor = connection.cursor()\n",
        "        cursor.execute(\"SELECT DATABASE();\")\n",
        "        record = cursor.fetchone()\n",
        "        print(\"Connected to database:\", record)\n",
        "\n",
        "except mysql.connector.Error as error:\n",
        "    print(\"Error while connecting to MySQL\", error)\n",
        "\n",
        "finally:\n",
        "    if (connection.is_connected()):\n",
        "        cursor.close()\n",
        "        connection.close()\n",
        "        print(\"MySQL connection is closed\")"
      ],
      "metadata": {
        "colab": {
          "base_uri": "https://localhost:8080/"
        },
        "id": "lt5ccXJsV5To",
        "outputId": "3ea2b617-d141-449c-ca1c-dfa6ce6395bb"
      },
      "execution_count": 7,
      "outputs": [
        {
          "output_type": "stream",
          "name": "stdout",
          "text": [
            "Connected to MySQL Server version  8.0.34\n",
            "Connected to database: (None,)\n",
            "MySQL connection is closed\n"
          ]
        }
      ]
    },
    {
      "cell_type": "markdown",
      "source": [
        "You should have - Connected to database"
      ],
      "metadata": {
        "id": "LKWc-ExgWUS0"
      }
    },
    {
      "cell_type": "code",
      "source": [
        "# Connect to MySQL\n",
        "connection = mysql.connector.connect(\n",
        "    host=DB_HOST,\n",
        "    user=DB_USER,\n",
        "    password=DB_PASSWORD\n",
        ")\n",
        "cursor = connection.cursor()\n",
        "\n",
        "# Get list of databases\n",
        "cursor.execute(\"SHOW DATABASES;\")\n",
        "databases = [db[0] for db in cursor.fetchall()]\n",
        "print(\"Databases:\", databases)\n",
        "\n",
        "\n",
        "# Clean up\n",
        "cursor.close()\n",
        "connection.close()"
      ],
      "metadata": {
        "colab": {
          "base_uri": "https://localhost:8080/"
        },
        "id": "IUHbgx3WV5Qm",
        "outputId": "92ab8e3d-0c45-4b82-dad0-258f7938f04a"
      },
      "execution_count": 9,
      "outputs": [
        {
          "output_type": "stream",
          "name": "stdout",
          "text": [
            "Databases: ['information_schema', 'insurance_turn_over', 'performance_schema']\n"
          ]
        }
      ]
    },
    {
      "cell_type": "code",
      "source": [],
      "metadata": {
        "id": "AOt4deNfV5Nr"
      },
      "execution_count": null,
      "outputs": []
    }
  ]
}